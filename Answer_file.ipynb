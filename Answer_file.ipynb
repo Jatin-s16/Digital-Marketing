{
 "cells": [
  {
   "cell_type": "code",
   "execution_count": 1,
   "metadata": {},
   "outputs": [
    {
     "name": "stdout",
     "output_type": "stream",
     "text": [
      "       month  day campaign_number user_engagement     banner placement  \\\n",
      "0      April    1          camp 1            High  160 x 600       abc   \n",
      "1      April    1          camp 1            High  160 x 600       def   \n",
      "2      April    1          camp 1            High  160 x 600       ghi   \n",
      "3      April    1          camp 1            High  160 x 600       mno   \n",
      "4      April    1          camp 1             Low  160 x 600       def   \n",
      "...      ...  ...             ...             ...        ...       ...   \n",
      "15403  April    1          camp 1             Low  160 x 600       ghi   \n",
      "15404  April    1          camp 1             Low  160 x 600       mno   \n",
      "15405   June   29          camp 1            High  800 x 250       ghi   \n",
      "15406   June   29          camp 1            High  800 x 250       mno   \n",
      "15407   June   29          camp 3            High  240 x 400       def   \n",
      "\n",
      "       displays      cost  clicks   revenue  post_click_conversions  \\\n",
      "0             4    0.0060       0    0.0000                       0   \n",
      "1         20170   26.7824     158   28.9717                      23   \n",
      "2         14701   27.6304     158   28.9771                      78   \n",
      "3        171259  216.8750    1796  329.4518                     617   \n",
      "4           552    0.0670       1    0.1834                       0   \n",
      "...         ...       ...     ...       ...                     ...   \n",
      "15403        16    0.0249       0    0.0000                       0   \n",
      "15404      2234    0.4044      10    1.8347                       3   \n",
      "15405         1    0.0157       0    0.0000                       0   \n",
      "15406         4    0.0123       0    0.0000                       0   \n",
      "15407      1209    0.3184       2    0.1115                       3   \n",
      "\n",
      "       post_click_sales_amount  Unnamed: 12  Unnamed: 13  \n",
      "0                       0.0000          NaN          NaN  \n",
      "1                    1972.4602          NaN          NaN  \n",
      "2                    2497.2636          NaN          NaN  \n",
      "3                   24625.3234          NaN          NaN  \n",
      "4                       0.0000          NaN          NaN  \n",
      "...                        ...          ...          ...  \n",
      "15403                   0.0000          NaN          NaN  \n",
      "15404                 101.7494          NaN          NaN  \n",
      "15405                   0.0000          NaN          NaN  \n",
      "15406                   0.0000          NaN          NaN  \n",
      "15407                 110.4224          NaN          NaN  \n",
      "\n",
      "[15408 rows x 14 columns]\n"
     ]
    }
   ],
   "source": [
    "import pandas as pd\n",
    "import numpy as np\n",
    "\n",
    "data = pd.read_csv(\"/Users/jatin/Documents/Finlatics/DsResearch/Digital Marketing/online_advertising_performance_data.csv\")\n",
    "df = pd.DataFrame(data)\n",
    "print(df)"
   ]
  },
  {
   "cell_type": "code",
   "execution_count": 2,
   "metadata": {},
   "outputs": [
    {
     "name": "stdout",
     "output_type": "stream",
     "text": [
      "<class 'pandas.core.frame.DataFrame'>\n",
      "RangeIndex: 15408 entries, 0 to 15407\n",
      "Data columns (total 14 columns):\n",
      " #   Column                   Non-Null Count  Dtype  \n",
      "---  ------                   --------------  -----  \n",
      " 0   month                    15408 non-null  object \n",
      " 1   day                      15408 non-null  int64  \n",
      " 2   campaign_number          15408 non-null  object \n",
      " 3   user_engagement          15408 non-null  object \n",
      " 4   banner                   15408 non-null  object \n",
      " 5   placement                14995 non-null  object \n",
      " 6   displays                 15408 non-null  int64  \n",
      " 7   cost                     15408 non-null  float64\n",
      " 8   clicks                   15408 non-null  int64  \n",
      " 9   revenue                  15408 non-null  float64\n",
      " 10  post_click_conversions   15408 non-null  int64  \n",
      " 11  post_click_sales_amount  15408 non-null  float64\n",
      " 12  Unnamed: 12              0 non-null      float64\n",
      " 13  Unnamed: 13              0 non-null      float64\n",
      "dtypes: float64(5), int64(4), object(5)\n",
      "memory usage: 1.6+ MB\n",
      "None \n",
      "\n",
      "                day       displays          cost        clicks       revenue  \\\n",
      "count  15408.000000   15408.000000  15408.000000  15408.000000  15408.000000   \n",
      "mean      15.518886   15512.573014     11.370262    161.788487     17.929943   \n",
      "std        8.740909   44392.392890     45.369499    728.276911     96.781834   \n",
      "min        1.000000       0.000000      0.000000      0.000000      0.000000   \n",
      "25%        8.000000      78.000000      0.024000      0.000000      0.000000   \n",
      "50%       15.000000    1182.000000      0.339850      6.000000      0.483950   \n",
      "75%       23.000000    8960.250000      2.536225     53.000000      3.839800   \n",
      "max       31.000000  455986.000000    556.704800  14566.000000   2096.211600   \n",
      "\n",
      "       post_click_conversions  post_click_sales_amount  Unnamed: 12  \\\n",
      "count            15408.000000             15408.000000          0.0   \n",
      "mean                42.300623              2123.288058          NaN   \n",
      "std                213.685660             10523.029607          NaN   \n",
      "min                  0.000000                 0.000000          NaN   \n",
      "25%                  0.000000                 0.000000          NaN   \n",
      "50%                  0.000000                 0.000000          NaN   \n",
      "75%                  3.000000               163.351200          NaN   \n",
      "max               3369.000000            199930.318000          NaN   \n",
      "\n",
      "       Unnamed: 13  \n",
      "count          0.0  \n",
      "mean           NaN  \n",
      "std            NaN  \n",
      "min            NaN  \n",
      "25%            NaN  \n",
      "50%            NaN  \n",
      "75%            NaN  \n",
      "max            NaN  \n"
     ]
    }
   ],
   "source": [
    "print(df.info(), \"\\n\")\n",
    "print(df.describe())"
   ]
  },
  {
   "cell_type": "code",
   "execution_count": 3,
   "metadata": {},
   "outputs": [
    {
     "name": "stdout",
     "output_type": "stream",
     "text": [
      "user_engagement\n",
      "Medium    5489\n",
      "Low       5035\n",
      "High      4884\n",
      "Name: count, dtype: int64\n"
     ]
    }
   ],
   "source": [
    "engagement_unique_count = df[\"user_engagement\"].value_counts()\n",
    "print(engagement_unique_count)"
   ]
  },
  {
   "cell_type": "code",
   "execution_count": null,
   "metadata": {},
   "outputs": [],
   "source": [
    "import matplotlib.pyplot as plt\n",
    "\n",
    "plt.plot(df[\"user_engagement\"], df[\"\"])"
   ]
  }
 ],
 "metadata": {
  "kernelspec": {
   "display_name": "Python 3",
   "language": "python",
   "name": "python3"
  },
  "language_info": {
   "codemirror_mode": {
    "name": "ipython",
    "version": 3
   },
   "file_extension": ".py",
   "mimetype": "text/x-python",
   "name": "python",
   "nbconvert_exporter": "python",
   "pygments_lexer": "ipython3",
   "version": "3.12.1"
  }
 },
 "nbformat": 4,
 "nbformat_minor": 2
}
